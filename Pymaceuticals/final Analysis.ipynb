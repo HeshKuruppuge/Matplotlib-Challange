{
 "cells": [
  {
   "cell_type": "markdown",
   "id": "9ddf49cb",
   "metadata": {},
   "source": [
    "# #Final Analysis"
   ]
  },
  {
   "attachments": {},
   "cell_type": "raw",
   "id": "c28537ed",
   "metadata": {},
   "source": [
    "#Look across all previously generated figures and tables and write at least three observations or inferences that can be made from the data. Include these observations at the top of the notebook.\n",
    "\n",
    "01)\tBy the looks of the \"Distribution of female vs male pie\" chart, it is almost the same and just a small variance. As a result, we can think cancer cells work in the same way for every gender.\n",
    "\n",
    "02) We have done the above summary table based on tumor volume on each drug regimen. Less tumor volume means the drug has worked better. Therefore, lowest mean, median, variance, standard deviation and SEM shows the most effective ones against cancer. So, we can come to a conclusion: Drug Capomulin and Ramicane are the most effective ones from these 9 drugs.\n",
    "\n",
    "03) According to the correlation and regression chart, it clearly tells us that there is a direct connection between Mouse weight and tumor volume. Tumor volume is highly increased when weight increases.\n",
    "\n",
    "\n",
    "\n",
    "\n"
   ]
  }
 ],
 "metadata": {
  "kernelspec": {
   "display_name": "Python 3 (ipykernel)",
   "language": "python",
   "name": "python3"
  },
  "language_info": {
   "codemirror_mode": {
    "name": "ipython",
    "version": 3
   },
   "file_extension": ".py",
   "mimetype": "text/x-python",
   "name": "python",
   "nbconvert_exporter": "python",
   "pygments_lexer": "ipython3",
   "version": "3.9.7"
  }
 },
 "nbformat": 4,
 "nbformat_minor": 5
}
